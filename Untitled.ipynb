{
 "cells": [
  {
   "cell_type": "code",
   "execution_count": 24,
   "id": "41bce42d",
   "metadata": {},
   "outputs": [],
   "source": [
    "import os\n",
    "import pandas as pd"
   ]
  },
  {
   "cell_type": "code",
   "execution_count": 25,
   "id": "05e25fd4",
   "metadata": {},
   "outputs": [],
   "source": [
    "csv_data = \"dataset_folder/data_BALANCE_DATA-False/dataset-filtered.csv\""
   ]
  },
  {
   "cell_type": "code",
   "execution_count": 26,
   "id": "b42e5384",
   "metadata": {},
   "outputs": [
    {
     "data": {
      "text/plain": [
       "(9398, 3)"
      ]
     },
     "execution_count": 26,
     "metadata": {},
     "output_type": "execute_result"
    }
   ],
   "source": [
    "df = pd.read_csv(csv_data)\n",
    "df.shape"
   ]
  },
  {
   "cell_type": "code",
   "execution_count": 27,
   "id": "2f55a812",
   "metadata": {},
   "outputs": [
    {
     "name": "stdout",
     "output_type": "stream",
     "text": [
      "<class 'pandas.core.frame.DataFrame'>\n",
      "RangeIndex: 9398 entries, 0 to 9397\n",
      "Data columns (total 3 columns):\n",
      " #   Column  Non-Null Count  Dtype \n",
      "---  ------  --------------  ----- \n",
      " 0   text    9398 non-null   object\n",
      " 1   intent  9398 non-null   object\n",
      " 2   labels  9398 non-null   int64 \n",
      "dtypes: int64(1), object(2)\n",
      "memory usage: 220.4+ KB\n"
     ]
    }
   ],
   "source": [
    "df.info()"
   ]
  },
  {
   "cell_type": "code",
   "execution_count": 28,
   "id": "464f0a53",
   "metadata": {},
   "outputs": [
    {
     "data": {
      "text/html": [
       "<div>\n",
       "<style scoped>\n",
       "    .dataframe tbody tr th:only-of-type {\n",
       "        vertical-align: middle;\n",
       "    }\n",
       "\n",
       "    .dataframe tbody tr th {\n",
       "        vertical-align: top;\n",
       "    }\n",
       "\n",
       "    .dataframe thead th {\n",
       "        text-align: right;\n",
       "    }\n",
       "</style>\n",
       "<table border=\"1\" class=\"dataframe\">\n",
       "  <thead>\n",
       "    <tr style=\"text-align: right;\">\n",
       "      <th></th>\n",
       "      <th>text</th>\n",
       "      <th>intent</th>\n",
       "      <th>labels</th>\n",
       "    </tr>\n",
       "  </thead>\n",
       "  <tbody>\n",
       "    <tr>\n",
       "      <th>0</th>\n",
       "      <td>save settings</td>\n",
       "      <td>music_settings</td>\n",
       "      <td>59</td>\n",
       "    </tr>\n",
       "    <tr>\n",
       "      <th>1</th>\n",
       "      <td>start music</td>\n",
       "      <td>play_music</td>\n",
       "      <td>68</td>\n",
       "    </tr>\n",
       "    <tr>\n",
       "      <th>2</th>\n",
       "      <td>book a train tickets for me</td>\n",
       "      <td>transport_ticket</td>\n",
       "      <td>100</td>\n",
       "    </tr>\n",
       "    <tr>\n",
       "      <th>3</th>\n",
       "      <td>any events this weekend in pondichery</td>\n",
       "      <td>recommendation_events</td>\n",
       "      <td>80</td>\n",
       "    </tr>\n",
       "    <tr>\n",
       "      <th>4</th>\n",
       "      <td>play games of c</td>\n",
       "      <td>play_games</td>\n",
       "      <td>67</td>\n",
       "    </tr>\n",
       "  </tbody>\n",
       "</table>\n",
       "</div>"
      ],
      "text/plain": [
       "                                    text                 intent  labels\n",
       "0                          save settings         music_settings      59\n",
       "1                            start music             play_music      68\n",
       "2            book a train tickets for me       transport_ticket     100\n",
       "3  any events this weekend in pondichery  recommendation_events      80\n",
       "4                        play games of c             play_games      67"
      ]
     },
     "execution_count": 28,
     "metadata": {},
     "output_type": "execute_result"
    }
   ],
   "source": [
    "df.head()"
   ]
  },
  {
   "cell_type": "code",
   "execution_count": 29,
   "id": "6194690f",
   "metadata": {},
   "outputs": [
    {
     "data": {
      "text/plain": [
       "array(['music_settings', 'play_music', 'transport_ticket',\n",
       "       'recommendation_events', 'play_games', 'general_dontcare',\n",
       "       'email_addcontact', 'audio_volume_up', 'transport_traffic',\n",
       "       'iot_hue_lightup', 'general_negate', 'general_repeat',\n",
       "       'recommendation_locations', 'news_query', 'iot_coffee',\n",
       "       'general_quirky', 'asking_weather', 'email_querycontact',\n",
       "       'iot_wemo_off', 'audio_volume_mute', 'social_query',\n",
       "       'iot_hue_lightdim', 'music_query', 'iot_wemo_on',\n",
       "       'transport_query', 'general_praise', 'qa_maths', 'play_game',\n",
       "       'general_confirm', 'datetime_query', 'lists_createoradd',\n",
       "       'iot_cleaning', 'lists_remove', 'lists_query', 'play_audiobook',\n",
       "       'cooking_recipe', 'social_post', 'alarm_remove', 'general_explain',\n",
       "       'play_podcasts', 'music_likeness', 'general_commandstop',\n",
       "       'qa_stock', 'play_radio', 'weather_query', 'qa_factoid',\n",
       "       'courtesygreeting', 'qa_currency', 'whoami', 'namequery',\n",
       "       'takeaway_query', 'datetime_convert', 'calendar_remove',\n",
       "       'podbaydoor', 'alarm_set', 'calendar_query', 'alarm_query',\n",
       "       'iot_hue_lightchange', 'qa_definition', 'volume_control',\n",
       "       'iot_hue_lighton', 'general_affirm', 'transport_taxi',\n",
       "       'audio_volume_down', 'recommendation_movies', 'swearing',\n",
       "       'email_sendemail', 'takeaway_order', 'tell_me_news',\n",
       "       'iot_hue_lightoff', 'general_joke', 'calendar_set', 'thanks',\n",
       "       'greetingresponse', 'email_query', 'understandquery',\n",
       "       'tell_me_about', 'realnamequery', 'tell_me_joke',\n",
       "       'check_internet_speed', 'selfaware', 'i_am_bored', 'send_email',\n",
       "       'jokes', 'take_screenshot', 'play_on_youtube', 'nottalking2u',\n",
       "       'currenthumanquery', 'what_can_you_do', 'podbaydoorresponse',\n",
       "       'asking_time', 'covid_cases', 'asking_date', 'goodbye',\n",
       "       'download_youtube_video', 'shutup', 'greeting', 'timequery',\n",
       "       'clever', 'click_photo', 'places_near_me',\n",
       "       'courtesygreetingresponse', 'open_website',\n",
       "       'send_whatsapp_message', 'courtesygoodbye',\n",
       "       'greet_and_general_check_in', 'gossip'], dtype=object)"
      ]
     },
     "execution_count": 29,
     "metadata": {},
     "output_type": "execute_result"
    }
   ],
   "source": [
    "uniques = df.intent.unique()\n",
    "uniques"
   ]
  },
  {
   "cell_type": "code",
   "execution_count": 30,
   "id": "a2108bfb",
   "metadata": {},
   "outputs": [
    {
     "data": {
      "text/plain": [
       "107"
      ]
     },
     "execution_count": 30,
     "metadata": {},
     "output_type": "execute_result"
    }
   ],
   "source": [
    "len(uniques)"
   ]
  },
  {
   "cell_type": "code",
   "execution_count": null,
   "id": "191d5122",
   "metadata": {},
   "outputs": [],
   "source": []
  }
 ],
 "metadata": {
  "kernelspec": {
   "display_name": "Python 3 (ipykernel)",
   "language": "python",
   "name": "python3"
  },
  "language_info": {
   "codemirror_mode": {
    "name": "ipython",
    "version": 3
   },
   "file_extension": ".py",
   "mimetype": "text/x-python",
   "name": "python",
   "nbconvert_exporter": "python",
   "pygments_lexer": "ipython3",
   "version": "3.9.12"
  }
 },
 "nbformat": 4,
 "nbformat_minor": 5
}
